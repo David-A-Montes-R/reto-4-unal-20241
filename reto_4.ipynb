{
 "cells": [
  {
   "cell_type": "code",
   "execution_count": 6,
   "metadata": {},
   "outputs": [
    {
     "name": "stdout",
     "output_type": "stream",
     "text": [
      "introduzca un código ASCII válido\n"
     ]
    }
   ],
   "source": [
    "#Dado un número entero, determinar si ese número corresponde al código ASCII de una vocal minúscula.\n",
    "m=input(\"ingrese el código de ASCII del cual quiere saber si pertenece a una vocal minúscula: \")\n",
    "if m.isdigit():\n",
    "    n:int\n",
    "    n=(int(m))\n",
    "# codígos ASCII de las vocales minúsculas: a=97 e=101 i= 105 o= 111 u= 117\n",
    "# es necesario delimitar la lista de números posibles a introducir\n",
    "#es necesario evitar que se puedan introducir letras(se me ocurrio una idea interesante que no funciona) \n",
    "    if(n>255):\n",
    "        print(\"introduzca un número valido para el código ASCII estándar.\")\n",
    "    else:\n",
    "        if(97 <= n <= 117):\n",
    "            match(n):\n",
    "                case 97:\n",
    "                    print(\"Usted eligio la a. El código ASCII elegido pertenece a una vocal minúscula.\" )\n",
    "                case 101:\n",
    "                    print(\"Usted eligio la e. El código ASCII elegido pertenece a una vocal minúscula.\")\n",
    "                case 105:\n",
    "                    print(\"Usted eligio la i. El código ASCII elegido pertenece a una vocal minúscula.\")\n",
    "                case 111:\n",
    "                    print(\"Usted eligio la o. El código ASCII elegido pertenece a una vocal minúscula.\")\n",
    "                case 117:\n",
    "                    print(\"Usted eligio la u. El código ASCII elegido pertenece a una vocal minúscula.\")\n",
    "                case _:\n",
    "                    print(\"El ASCII no pertenece al ASCII de ninguna vocal minúscula.\")\n",
    "        else:\n",
    "            print(\"El número elegido no pertenece al ASCII de ninguna vocal minúscula.\")\n",
    "else:\n",
    "    print(\"introduzca un código ASCII válido\")\n",
    "# creo que terminado, ahora sí"
   ]
  },
  {
   "cell_type": "code",
   "execution_count": 1,
   "metadata": {},
   "outputs": [
    {
     "name": "stdout",
     "output_type": "stream",
     "text": [
      "el código ASCII del primer carácter de su cadena es: 52 ,efectivamente es par\n"
     ]
    }
   ],
   "source": [
    "#Dada una cadena de longitud 1, determine si el código ASCII de primera letra de la cadena es par o no.\n",
    "C: str\n",
    "#Según internet y el profesor puedo delimitar el número de carácteres usados de la cadena usando corchetes\n",
    "C= str(input(\"Introduzca un carácter para saber su código ASCII, y si este es par o no:\"))[0]\n",
    "if( not C):\n",
    "    print(\" la cadena está vacía, intente de nuevo\")\n",
    "else:\n",
    "    n= ord(C)\n",
    "    if(n%2):\n",
    "        print(\"el código ASCII del primer carácter de su cadena es:\",  ord(C), \",efectivamente es impar\")\n",
    "    else:\n",
    "        print(\"el código ASCII del primer carácter de su cadena es:\",  ord(C), \",efectivamente es par\")"
   ]
  },
  {
   "cell_type": "code",
   "execution_count": 368,
   "metadata": {},
   "outputs": [
    {
     "name": "stdout",
     "output_type": "stream",
     "text": [
      "el carácter introducido no es un dígito. Por favor vuelva a intentarlo.\n"
     ]
    }
   ],
   "source": [
    "#Dado un carácter, construya un programa en Python para determinar si el carácter es un dígito o no.\n",
    "n: float\n",
    "n= input(\"introduzca un carácter para saber si es un dígito o no:\")[0]\n",
    "if(not n):\n",
    "    print(\"introduzca por lo menos un carácter\")\n",
    "else:\n",
    "    if(ord(n)>47 and ord(n)<58):\n",
    "        print(\"el carácter elegido es un dígito.\")\n",
    "    else:\n",
    "        print(\"el carácter introducido no es un dígito. Por favor vuelva a intentarlo.\")\n",
    "# esto practicamente no necesitaba arreglo"
   ]
  },
  {
   "cell_type": "code",
   "execution_count": 367,
   "metadata": {},
   "outputs": [
    {
     "name": "stdout",
     "output_type": "stream",
     "text": [
      "El número 98.36 es positivo\n"
     ]
    }
   ],
   "source": [
    "#Dado un número real x, construya un programa que permita determinar si el número es positivo, negativo o cero.\n",
    "# Para cada caso se debe imprimir el texto que se especifica a continuación:\n",
    "#Positivo: \"El número x es positivo\"\n",
    "#Negativo: \"El número x es negativo\"\n",
    "#Cero (0): \"El número x es el neutro para la suma\"\n",
    "m= input(\"introduzca un número real\")\n",
    "if (('-' in m) or ('.' in m))or m.isdigit():\n",
    "        n:float\n",
    "        n=(float(m))\n",
    "        if( n>0):\n",
    "            print(\"El número\", n ,\"es positivo\")\n",
    "        else:\n",
    "            if(n==0):\n",
    "                print(\"El número\", n ,\"es igual a cero(0)\")\n",
    "            else:\n",
    "                print(\"El número\", n ,\"es negativo\")\n",
    "else:\n",
    "    print(\"introduzca un carácter válido\")\n",
    "\n",
    "# practicamente acabado porque es dudoso que a alguien se le ocurra colocar un -a"
   ]
  },
  {
   "cell_type": "code",
   "execution_count": 41,
   "metadata": {},
   "outputs": [
    {
     "name": "stdout",
     "output_type": "stream",
     "text": [
      "por favor introduzca solo números reales(coordenada y del centro del círculo)\n"
     ]
    }
   ],
   "source": [
    "#Dado el centro y el radio de un círculo, determinar si un punto de R2 pertenece o no al interior del círculo.\n",
    "#la ecuación general de un círculo es (x-a)^2+(y-b)^2=r^2 o algo así,a y b son las coordenadas del centro del círculo\n",
    "#hay que definir todas las variables, usar la función \"in\" y \"is.digit\" para asegurarse que no haya carácteres extraños, y ya\n",
    "na= input(\"introduzca la coordenada x del centro del círculo:\")\n",
    "nb= input(\"introduzca la coordenada y del centro del círculo:\")\n",
    "nc= input(\"introduzca el radio del círculo:\")\n",
    "nd= input(\"introduzca la coordenada x del punto R2:\")\n",
    "ne= input(\"introduzca la coordenada y del punto R2:\")\n",
    "if(((((not na)or (not nb)) or( not nc)) or (not nd)) or (not ne)):\n",
    "    print(\"introduzca por lo menos un número real\")\n",
    "else:\n",
    "    if (('-' in na) or \n",
    "        ('.' in na)) or na.isdigit():\n",
    "        a: float\n",
    "        a=(float(na))   \n",
    "        if (('-' in nb) or \n",
    "            ('.' in nb))or nb.isdigit():\n",
    "            b: float\n",
    "            b=(float(nb))\n",
    "            if (('-' in nc) or \n",
    "                '.' in nc)or nc.isdigit():  \n",
    "                c: float\n",
    "                c=(float(nc))\n",
    "                if (('-' in nd) or \n",
    "                '.' in nd)or nd.isdigit():\n",
    "                        d: float\n",
    "                        d=(float(nd))\n",
    "                        if(('-' in ne) or \n",
    "                        '.' in ne)or ne.isdigit():\n",
    "                            e: float\n",
    "                            e=(float(ne))\n",
    "                            f= a-d\n",
    "                            f2= f*f\n",
    "                            g= b-e\n",
    "                            g2= e*e\n",
    "                            h= c*c\n",
    "                            if(f2 + g2 <= h):\n",
    "                                print( \"el punto R2 elegido está dentro del círculo\")\n",
    "                            else:\n",
    "                                print(\"el punto R2 elegido está fuera del círculo\")\n",
    "                        else:\n",
    "                            print(\"por favor introduzca solo números reales(coordenada y de R2)\")\n",
    "                else:\n",
    "                    print(\"por favor introduzca solo números reales(coordenada x del punto R2)\")     \n",
    "            else:\n",
    "                print(\"por favor introduzca solo números reales(radio del círculo)\")\n",
    "        else:\n",
    "            print(\"por favor introduzca solo números reales(coordenada y del centro del círculo)\")\n",
    "    else:\n",
    "        print(\"por favor introduzca solo números reales(coordenada x del centro del círculo)\")\n",
    "#confiare en que está bien porque está complicado probar todos los casos"
   ]
  },
  {
   "cell_type": "code",
   "execution_count": 49,
   "metadata": {},
   "outputs": [
    {
     "name": "stdout",
     "output_type": "stream",
     "text": [
      "Este conjunto de líneas tiene de triángulo lo que Bad Bunny de rey del pop\n"
     ]
    }
   ],
   "source": [
    "#Dadas tres longitudes positivas, determinar si con esas longitudes se puede construir un triángulo.\n",
    "na= input(\"introduzca la longitud del lado A:\")\n",
    "nb= input(\"introduzca la longitud del lado B:\")\n",
    "nc= input(\"introduzca la longitud del lado C\")\n",
    "if (('.' in na)) or na.isdigit():\n",
    "    a: float\n",
    "    a=(float(na))   \n",
    "    if (('.' in nb))or nb.isdigit():\n",
    "        b: float\n",
    "        b=(float(nb))\n",
    "        if (('.' in nc))or nc.isdigit():  \n",
    "            c: float\n",
    "            c=(float(nc))\n",
    "            if(((a+b>c) and (b+c>a) and (a+c>b))):\n",
    "                print(\"Esto, en efecto es un triangulo\")\n",
    "            else:\n",
    "                print(\"Este conjunto de líneas tiene de triángulo lo que Bad Bunny de rey del pop\")\n",
    "        else:\n",
    "            print(\"introduzca solo números reales positivos(lado C)\")\n",
    "    else:\n",
    "        print(\"introduzca solo números reales positivos(lado B)\")\n",
    "else:\n",
    "    print(\"introduzca solo números reales positivos(lado A)\")\n",
    "#happy happy happy\n",
    "#happyhappyhappyhappyhappy"
   ]
  }
 ],
 "metadata": {
  "kernelspec": {
   "display_name": "Python 3",
   "language": "python",
   "name": "python3"
  },
  "language_info": {
   "codemirror_mode": {
    "name": "ipython",
    "version": 3
   },
   "file_extension": ".py",
   "mimetype": "text/x-python",
   "name": "python",
   "nbconvert_exporter": "python",
   "pygments_lexer": "ipython3",
   "version": "3.12.2"
  }
 },
 "nbformat": 4,
 "nbformat_minor": 2
}
